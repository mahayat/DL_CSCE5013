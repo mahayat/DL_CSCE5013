{
 "cells": [
  {
   "cell_type": "markdown",
   "metadata": {},
   "source": [
    "$$ y(n,c,i) = \\Big[ \\sum_{k = 1}^{K} \\sum_{j=1}^{C_{IN}} w(c,j,k) x(n,j,si + k)\\Big] + b(c) $$\n"
   ]
  },
  {
   "cell_type": "markdown",
   "metadata": {},
   "source": [
    "$$ \\sum_{n = 1}^{N} \\sum_{i = 1}^{l_{out}} \\frac{\\partial L}{\\partial b(c)} = \\sum_{n = 1}^{N} \\sum_{i = 1}^{l_{out}} \\frac{\\partial L}{\\partial y(n,c,i)} \\frac{\\partial  y(n,c,i)}{\\partial b(c)} = \\sum_{n = 1}^{N} \\sum_{i = 1}^{l_{out}} \\frac{\\partial L}{\\partial y(n,c,i)} $$"
   ]
  },
  {
   "cell_type": "markdown",
   "metadata": {},
   "source": [
    "$$ \\sum_{n = 1}^{N} \\sum_{i = 1}^{l_{out}} \\frac{\\partial L}{\\partial w(c^\\prime,j^\\prime, k^\\prime)} =  \\sum_{n = 1}^{N} \\sum_{i = 1}^{l_{out}} \\frac{\\partial  L} {\\partial  y(n,c^\\prime,i)} \\frac{\\partial  y(n,c^\\prime,i)}{\\partial w(c^\\prime,j^\\prime, k^\\prime)} = \\sum_{n = 1}^{N} \\sum_{i = 1}^{l_{out}} \\frac{\\partial  L} {\\partial  y(n,c^\\prime,i)}  x(n,j^\\prime,si + k^\\prime) $$"
   ]
  },
  {
   "cell_type": "markdown",
   "metadata": {},
   "source": [
    "$$  \\sum_{c = 1}^{C_{IN}} \\sum_{i = 1}^{l_{out}} \\frac{\\partial L}{\\partial x(n^\\prime,j^\\prime, si+k^\\prime)} =\\sum_{c = 1}^{C_{IN}} \\sum_{i = 1}^{l_{out}} \\frac{\\partial L}{\\partial y(n^\\prime,c, i)} \\frac{\\partial y(n^\\prime,c, i)}{x(n^\\prime,j^\\prime, si+k^\\prime)} = \\sum_{c = 1}^{C_{IN}} \\sum_{i = 1}^{l_{out}} \\frac{\\partial L}{\\partial y(n^\\prime,c, i)} w(c,j^{\\prime} k^{\\prime})$$"
   ]
  },
  {
   "cell_type": "code",
   "execution_count": null,
   "metadata": {},
   "outputs": [],
   "source": []
  }
 ],
 "metadata": {
  "kernelspec": {
   "display_name": "Python 3",
   "language": "python",
   "name": "python3"
  },
  "language_info": {
   "codemirror_mode": {
    "name": "ipython",
    "version": 3
   },
   "file_extension": ".py",
   "mimetype": "text/x-python",
   "name": "python",
   "nbconvert_exporter": "python",
   "pygments_lexer": "ipython3",
   "version": "3.7.0"
  }
 },
 "nbformat": 4,
 "nbformat_minor": 2
}
