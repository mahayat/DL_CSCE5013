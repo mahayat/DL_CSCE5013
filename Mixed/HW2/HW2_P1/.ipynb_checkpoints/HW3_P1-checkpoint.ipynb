{
 "cells": [
  {
   "cell_type": "markdown",
   "metadata": {},
   "source": [
    "import numpy as np"
   ]
  },
  {
   "cell_type": "code",
   "execution_count": 13,
   "metadata": {},
   "outputs": [],
   "source": [
    "def d_L2_loss(y, input_value, prev_weight):\n",
    "    if input_value*prev_weight <= 0:\n",
    "        return 0\n",
    "    else:\n",
    "        return 2*(input_value*prev_weight - y)*input_value"
   ]
  },
  {
   "cell_type": "code",
   "execution_count": 3,
   "metadata": {},
   "outputs": [],
   "source": [
    "def updating_parameter(y, input_value, prev_weight, prev_update, loss_type):\n",
    "    if loss_type == 'L2':\n",
    "        update = beta*prev_weight - eta*d_L2_loss(y, input_value, prev_weight)\n",
    "    updated_weight = prev_weight + update\n",
    "    return updated_weight, update"
   ]
  },
  {
   "cell_type": "code",
   "execution_count": 6,
   "metadata": {},
   "outputs": [],
   "source": [
    "new_weight = 1\n",
    "new_update = 0.5\n",
    "y = 1\n",
    "x = 0.5\n",
    "beta = 0.9\n",
    "eta = 0.1\n",
    "W = new_weight"
   ]
  },
  {
   "cell_type": "code",
   "execution_count": 11,
   "metadata": {},
   "outputs": [],
   "source": [
    "for i in np.arange(2):\n",
    "    new_weight, new_update = updating_parameter(y, x, \n",
    "                                                new_weight, new_update, 'L2')\n",
    "    W = np.append(W,new_weight)"
   ]
  },
  {
   "cell_type": "code",
   "execution_count": 12,
   "metadata": {},
   "outputs": [
    {
     "data": {
      "text/plain": [
       "array([1.        , 1.5       , 1.975     , 2.40375   , 2.7694375 ,\n",
       "       3.06008438, 3.26866234, 3.3929494 , 3.43516028, 3.40139206])"
      ]
     },
     "execution_count": 12,
     "metadata": {},
     "output_type": "execute_result"
    }
   ],
   "source": [
    "W"
   ]
  },
  {
   "cell_type": "code",
   "execution_count": null,
   "metadata": {},
   "outputs": [],
   "source": []
  }
 ],
 "metadata": {
  "kernelspec": {
   "display_name": "Python 3",
   "language": "python",
   "name": "python3"
  },
  "language_info": {
   "codemirror_mode": {
    "name": "ipython",
    "version": 3
   },
   "file_extension": ".py",
   "mimetype": "text/x-python",
   "name": "python",
   "nbconvert_exporter": "python",
   "pygments_lexer": "ipython3",
   "version": "3.7.0"
  }
 },
 "nbformat": 4,
 "nbformat_minor": 2
}
