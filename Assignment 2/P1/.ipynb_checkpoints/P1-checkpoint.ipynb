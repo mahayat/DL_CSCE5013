{
 "cells": [
  {
   "cell_type": "markdown",
   "metadata": {},
   "source": [
    "Assuming the loss function to be \n",
    "$$L = [y(x,w)-d]^2 $$\n",
    "hence\n",
    "$$ \\frac{\\partial L}{\\partial w} = 2 [y(x,w)-d] \\frac{\\partial y(x,w)}{\\partial w} $$"
   ]
  },
  {
   "cell_type": "code",
   "execution_count": null,
   "metadata": {},
   "outputs": [],
   "source": [
    "import numpy as np\n",
    "import matplotlib.pyplot as plt\n",
    "\n",
    "def f(x,w):\n",
    "    return max(0, x*w)\n",
    "\n",
    "def dloss(x,w,d):\n",
    "    if w*x > 0:\n",
    "        return 2*(f(x,w)-d)*x\n",
    "    else:\n",
    "        return 0"
   ]
  },
  {
   "cell_type": "code",
   "execution_count": 2,
   "metadata": {},
   "outputs": [],
   "source": [
    "w = 1 \n",
    "dw = 0.5\n",
    "beta = 0.9\n",
    "eta = 0.1\n",
    "\n",
    "x = 0.5\n",
    "d = 1\n",
    "\n",
    "dW = dw\n",
    "W = w"
   ]
  },
  {
   "cell_type": "markdown",
   "metadata": {},
   "source": [
    "Given the values above after many iteration $w$ should be equal to $2$."
   ]
  },
  {
   "cell_type": "code",
   "execution_count": 6,
   "metadata": {
    "scrolled": true
   },
   "outputs": [
    {
     "data": {
      "image/png": "[encoded data removed]",
      "text/plain": [
       "<Figure size 432x288 with 1 Axes>"
      ]
     },
     "metadata": {
      "needs_background": "light"
     },
     "output_type": "display_data"
    }
   ],
   "source": [
    "for i in range(100):\n",
    "    dw = beta*dw - eta*dloss(x,w,d)\n",
    "    w = w + dw\n",
    "    dW = np.append(dW,dw)\n",
    "    W = np.append(W,w)\n",
    "    \n",
    "plt.plot(W)\n",
    "plt.grid()"
   ]
  },
  {
   "cell_type": "markdown",
   "metadata": {},
   "source": [
    "Our desired value after one iteration"
   ]
  },
  {
   "cell_type": "code",
   "execution_count": 7,
   "metadata": {},
   "outputs": [
    {
     "name": "stdout",
     "output_type": "stream",
     "text": [
      "1.5\n"
     ]
    }
   ],
   "source": [
    "print(W[1])"
   ]
  }
 ],
 "metadata": {
  "kernelspec": {
   "display_name": "Python 3",
   "language": "python",
   "name": "python3"
  },
  "language_info": {
   "codemirror_mode": {
    "name": "ipython",
    "version": 3
   },
   "file_extension": ".py",
   "mimetype": "text/x-python",
   "name": "python",
   "nbconvert_exporter": "python",
   "pygments_lexer": "ipython3",
   "version": "3.6.9"
  }
 },
 "nbformat": 4,
 "nbformat_minor": 2
}
