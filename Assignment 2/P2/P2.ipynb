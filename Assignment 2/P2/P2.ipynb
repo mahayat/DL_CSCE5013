{
 "cells": [
  {
   "cell_type": "markdown",
   "metadata": {},
   "source": [
    "## Problem 2\n",
    "\n",
    "$$ y(x,w) = \\frac{1}{1+e^{-wx}}$$\n",
    "In this function, $(x,d(x)) = (-0.5, 1)$ is possible only if $w \\to -\\infty$. Under this condition the loss function $L$ and it's derivative are"
   ]
  },
  {
   "cell_type": "markdown",
   "metadata": {},
   "source": [
    "$$ L(x,w,d) = d\\log(y(x,w)) + (1-d)\\log(1-y(x,w))$$"
   ]
  },
  {
   "cell_type": "markdown",
   "metadata": {},
   "source": [
    "$$ \\frac{\\partial L}{\\partial x} = f(x,w)-(1-d)wx $$"
   ]
  },
  {
   "cell_type": "code",
   "execution_count": 23,
   "metadata": {},
   "outputs": [],
   "source": [
    "import numpy as np\n",
    "import matplotlib.pyplot as plt\n",
    "\n",
    "def f(x,w):\n",
    "    return 1/(1+np.exp(-w*x))\n",
    "\n",
    "def loss(x,w,d):\n",
    "    return -d*np.log(f(x,w))-(1-d)*np.log(1-f(x,w))\n",
    "\n",
    "def dloss(x,w,d):\n",
    "    return (f(x,w)-d)*x"
   ]
  },
  {
   "cell_type": "code",
   "execution_count": 24,
   "metadata": {},
   "outputs": [],
   "source": [
    "w = 0 \n",
    "dw = 0.5\n",
    "\n",
    "beta = 0.9\n",
    "eta = 0.1\n",
    "\n",
    "x = -0.5\n",
    "d = 1\n",
    "\n",
    "dW = dw\n",
    "W = w"
   ]
  },
  {
   "cell_type": "code",
   "execution_count": 25,
   "metadata": {
    "scrolled": true
   },
   "outputs": [
    {
     "data": {
      "image/png": "[encoded data removed]",
      "text/plain": [
       "<Figure size 432x288 with 1 Axes>"
      ]
     },
     "metadata": {
      "needs_background": "light"
     },
     "output_type": "display_data"
    }
   ],
   "source": [
    "for i in range(50):\n",
    "    dw = beta*dw - eta*dloss(x,w,d)\n",
    "    w = w + dw\n",
    "    dW = np.append(dW,dw)\n",
    "    W = np.append(W,w)\n",
    "    \n",
    "plt.plot(W)\n",
    "plt.grid()"
   ]
  },
  {
   "cell_type": "code",
   "execution_count": 26,
   "metadata": {},
   "outputs": [
    {
     "data": {
      "text/plain": [
       "0.425"
      ]
     },
     "execution_count": 26,
     "metadata": {},
     "output_type": "execute_result"
    }
   ],
   "source": [
    "W[1]"
   ]
  },
  {
   "cell_type": "code",
   "execution_count": 27,
   "metadata": {},
   "outputs": [
    {
     "data": {
      "text/plain": [
       "0.09363465248518191"
      ]
     },
     "execution_count": 27,
     "metadata": {},
     "output_type": "execute_result"
    }
   ],
   "source": [
    "loss(x,W[50],d)"
   ]
  },
  {
   "cell_type": "markdown",
   "metadata": {},
   "source": [
    "If $w \\to -\\infty$ then loss function, $L \\to 0$. Which verifies the answer"
   ]
  }
 ],
 "metadata": {
  "kernelspec": {
   "display_name": "Python 3",
   "language": "python",
   "name": "python3"
  },
  "language_info": {
   "codemirror_mode": {
    "name": "ipython",
    "version": 3
   },
   "file_extension": ".py",
   "mimetype": "text/x-python",
   "name": "python",
   "nbconvert_exporter": "python",
   "pygments_lexer": "ipython3",
   "version": "3.7.0"
  }
 },
 "nbformat": 4,
 "nbformat_minor": 2
}
